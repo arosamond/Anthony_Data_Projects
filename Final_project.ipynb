{
 "cells": [
  {
   "cell_type": "code",
   "execution_count": 3,
   "id": "37637ee8-9d44-46a5-98ea-b2d9f1beb975",
   "metadata": {
    "tags": []
   },
   "outputs": [],
   "source": [
    "#Import packages to be used\n",
    "import numpy as np\n",
    "import pandas as pd\n",
    "from sklearn import linear_model\n",
    "from sklearn.model_selection import train_test_split\n",
    "from sklearn.linear_model import LinearRegression\n",
    "from sklearn.metrics import mean_squared_error\n",
    "import matplotlib.pyplot as plt\n",
    "from IPython.display import display"
   ]
  },
  {
   "cell_type": "markdown",
   "id": "5cf8b43d-02ec-47d2-aadf-621a8022a063",
   "metadata": {
    "tags": []
   },
   "source": [
    "# Intro\n",
    "\n",
    "Hello my name is Anthony Rosamond and in this project I am going to be looking at a dataset containing information on cars along with their fuel efficiency. The goal here is to create a model using multiple linear regression in order to predict the fuel efficiency (in mpg) from the variables weight, engine displacement, and engine power. \n",
    "\n",
    "Let's talk about what exactly multiple regression is and how it is used. Multiple regression is an extension of simple linear regression. If you aren't familiar with simple linear regression it is taking one variable and using it to predict the value of another using an equation of the form $y = \\beta_0 + \\beta_1x + \\varepsilon$. Here $\\beta_0$ is simply the y-intercept of the model, $y$ is the variable being predicted, $x$ is the variable used to predict and $\\beta_1$ tells us how much a change in $x$ will affect our predicted value. \n",
    "\n",
    "Multiple regression is an extension of this where instead of only 1 variable being used to predict $y$ we have multiple variables. This is going to create a model with an equation of the form $y = \\beta_0 + \\beta_1x_1 + \\beta_2x_2 + ... + \\beta_nx_n + \\varepsilon$. Here you can see we accomadate the usage of more variables.\n",
    "\n",
    "Now let's first start with imporoting the dataset and creating a pandas dataframe with it. Here we also print the dimensions of the dataframe to make sure it is consistent with the csv file.\n"
   ]
  },
  {
   "cell_type": "code",
   "execution_count": 4,
   "id": "7696bf68-6641-4f82-baf6-e307ad9868d0",
   "metadata": {
    "tags": []
   },
   "outputs": [
    {
     "name": "stdout",
     "output_type": "stream",
     "text": [
      "(398, 9)\n"
     ]
    },
    {
     "data": {
      "text/html": [
       "<div>\n",
       "<style scoped>\n",
       "    .dataframe tbody tr th:only-of-type {\n",
       "        vertical-align: middle;\n",
       "    }\n",
       "\n",
       "    .dataframe tbody tr th {\n",
       "        vertical-align: top;\n",
       "    }\n",
       "\n",
       "    .dataframe thead th {\n",
       "        text-align: right;\n",
       "    }\n",
       "</style>\n",
       "<table border=\"1\" class=\"dataframe\">\n",
       "  <thead>\n",
       "    <tr style=\"text-align: right;\">\n",
       "      <th></th>\n",
       "      <th>mpg</th>\n",
       "      <th>cylinders</th>\n",
       "      <th>displacement</th>\n",
       "      <th>horsepower</th>\n",
       "      <th>weight</th>\n",
       "      <th>acceleration</th>\n",
       "      <th>model year</th>\n",
       "      <th>origin</th>\n",
       "      <th>car name</th>\n",
       "    </tr>\n",
       "  </thead>\n",
       "  <tbody>\n",
       "    <tr>\n",
       "      <th>0</th>\n",
       "      <td>18.0</td>\n",
       "      <td>8</td>\n",
       "      <td>307.0</td>\n",
       "      <td>130</td>\n",
       "      <td>3504</td>\n",
       "      <td>12.0</td>\n",
       "      <td>70</td>\n",
       "      <td>1</td>\n",
       "      <td>chevrolet chevelle malibu</td>\n",
       "    </tr>\n",
       "    <tr>\n",
       "      <th>1</th>\n",
       "      <td>15.0</td>\n",
       "      <td>8</td>\n",
       "      <td>350.0</td>\n",
       "      <td>165</td>\n",
       "      <td>3693</td>\n",
       "      <td>11.5</td>\n",
       "      <td>70</td>\n",
       "      <td>1</td>\n",
       "      <td>buick skylark 320</td>\n",
       "    </tr>\n",
       "    <tr>\n",
       "      <th>2</th>\n",
       "      <td>18.0</td>\n",
       "      <td>8</td>\n",
       "      <td>318.0</td>\n",
       "      <td>150</td>\n",
       "      <td>3436</td>\n",
       "      <td>11.0</td>\n",
       "      <td>70</td>\n",
       "      <td>1</td>\n",
       "      <td>plymouth satellite</td>\n",
       "    </tr>\n",
       "    <tr>\n",
       "      <th>3</th>\n",
       "      <td>16.0</td>\n",
       "      <td>8</td>\n",
       "      <td>304.0</td>\n",
       "      <td>150</td>\n",
       "      <td>3433</td>\n",
       "      <td>12.0</td>\n",
       "      <td>70</td>\n",
       "      <td>1</td>\n",
       "      <td>amc rebel sst</td>\n",
       "    </tr>\n",
       "    <tr>\n",
       "      <th>4</th>\n",
       "      <td>17.0</td>\n",
       "      <td>8</td>\n",
       "      <td>302.0</td>\n",
       "      <td>140</td>\n",
       "      <td>3449</td>\n",
       "      <td>10.5</td>\n",
       "      <td>70</td>\n",
       "      <td>1</td>\n",
       "      <td>ford torino</td>\n",
       "    </tr>\n",
       "  </tbody>\n",
       "</table>\n",
       "</div>"
      ],
      "text/plain": [
       "    mpg  cylinders  displacement horsepower  weight  acceleration  model year  \\\n",
       "0  18.0          8         307.0        130    3504          12.0          70   \n",
       "1  15.0          8         350.0        165    3693          11.5          70   \n",
       "2  18.0          8         318.0        150    3436          11.0          70   \n",
       "3  16.0          8         304.0        150    3433          12.0          70   \n",
       "4  17.0          8         302.0        140    3449          10.5          70   \n",
       "\n",
       "   origin                   car name  \n",
       "0       1  chevrolet chevelle malibu  \n",
       "1       1          buick skylark 320  \n",
       "2       1         plymouth satellite  \n",
       "3       1              amc rebel sst  \n",
       "4       1                ford torino  "
      ]
     },
     "metadata": {},
     "output_type": "display_data"
    },
    {
     "data": {
      "text/html": [
       "<div>\n",
       "<style scoped>\n",
       "    .dataframe tbody tr th:only-of-type {\n",
       "        vertical-align: middle;\n",
       "    }\n",
       "\n",
       "    .dataframe tbody tr th {\n",
       "        vertical-align: top;\n",
       "    }\n",
       "\n",
       "    .dataframe thead th {\n",
       "        text-align: right;\n",
       "    }\n",
       "</style>\n",
       "<table border=\"1\" class=\"dataframe\">\n",
       "  <thead>\n",
       "    <tr style=\"text-align: right;\">\n",
       "      <th></th>\n",
       "      <th>mpg</th>\n",
       "      <th>cylinders</th>\n",
       "      <th>displacement</th>\n",
       "      <th>weight</th>\n",
       "      <th>acceleration</th>\n",
       "      <th>model year</th>\n",
       "      <th>origin</th>\n",
       "    </tr>\n",
       "  </thead>\n",
       "  <tbody>\n",
       "    <tr>\n",
       "      <th>count</th>\n",
       "      <td>398.000000</td>\n",
       "      <td>398.000000</td>\n",
       "      <td>398.000000</td>\n",
       "      <td>398.000000</td>\n",
       "      <td>398.000000</td>\n",
       "      <td>398.000000</td>\n",
       "      <td>398.000000</td>\n",
       "    </tr>\n",
       "    <tr>\n",
       "      <th>mean</th>\n",
       "      <td>23.514573</td>\n",
       "      <td>5.454774</td>\n",
       "      <td>193.425879</td>\n",
       "      <td>2970.424623</td>\n",
       "      <td>15.568090</td>\n",
       "      <td>76.010050</td>\n",
       "      <td>1.572864</td>\n",
       "    </tr>\n",
       "    <tr>\n",
       "      <th>std</th>\n",
       "      <td>7.815984</td>\n",
       "      <td>1.701004</td>\n",
       "      <td>104.269838</td>\n",
       "      <td>846.841774</td>\n",
       "      <td>2.757689</td>\n",
       "      <td>3.697627</td>\n",
       "      <td>0.802055</td>\n",
       "    </tr>\n",
       "    <tr>\n",
       "      <th>min</th>\n",
       "      <td>9.000000</td>\n",
       "      <td>3.000000</td>\n",
       "      <td>68.000000</td>\n",
       "      <td>1613.000000</td>\n",
       "      <td>8.000000</td>\n",
       "      <td>70.000000</td>\n",
       "      <td>1.000000</td>\n",
       "    </tr>\n",
       "    <tr>\n",
       "      <th>25%</th>\n",
       "      <td>17.500000</td>\n",
       "      <td>4.000000</td>\n",
       "      <td>104.250000</td>\n",
       "      <td>2223.750000</td>\n",
       "      <td>13.825000</td>\n",
       "      <td>73.000000</td>\n",
       "      <td>1.000000</td>\n",
       "    </tr>\n",
       "    <tr>\n",
       "      <th>50%</th>\n",
       "      <td>23.000000</td>\n",
       "      <td>4.000000</td>\n",
       "      <td>148.500000</td>\n",
       "      <td>2803.500000</td>\n",
       "      <td>15.500000</td>\n",
       "      <td>76.000000</td>\n",
       "      <td>1.000000</td>\n",
       "    </tr>\n",
       "    <tr>\n",
       "      <th>75%</th>\n",
       "      <td>29.000000</td>\n",
       "      <td>8.000000</td>\n",
       "      <td>262.000000</td>\n",
       "      <td>3608.000000</td>\n",
       "      <td>17.175000</td>\n",
       "      <td>79.000000</td>\n",
       "      <td>2.000000</td>\n",
       "    </tr>\n",
       "    <tr>\n",
       "      <th>max</th>\n",
       "      <td>46.600000</td>\n",
       "      <td>8.000000</td>\n",
       "      <td>455.000000</td>\n",
       "      <td>5140.000000</td>\n",
       "      <td>24.800000</td>\n",
       "      <td>82.000000</td>\n",
       "      <td>3.000000</td>\n",
       "    </tr>\n",
       "  </tbody>\n",
       "</table>\n",
       "</div>"
      ],
      "text/plain": [
       "              mpg   cylinders  displacement       weight  acceleration  \\\n",
       "count  398.000000  398.000000    398.000000   398.000000    398.000000   \n",
       "mean    23.514573    5.454774    193.425879  2970.424623     15.568090   \n",
       "std      7.815984    1.701004    104.269838   846.841774      2.757689   \n",
       "min      9.000000    3.000000     68.000000  1613.000000      8.000000   \n",
       "25%     17.500000    4.000000    104.250000  2223.750000     13.825000   \n",
       "50%     23.000000    4.000000    148.500000  2803.500000     15.500000   \n",
       "75%     29.000000    8.000000    262.000000  3608.000000     17.175000   \n",
       "max     46.600000    8.000000    455.000000  5140.000000     24.800000   \n",
       "\n",
       "       model year      origin  \n",
       "count  398.000000  398.000000  \n",
       "mean    76.010050    1.572864  \n",
       "std      3.697627    0.802055  \n",
       "min     70.000000    1.000000  \n",
       "25%     73.000000    1.000000  \n",
       "50%     76.000000    1.000000  \n",
       "75%     79.000000    2.000000  \n",
       "max     82.000000    3.000000  "
      ]
     },
     "metadata": {},
     "output_type": "display_data"
    }
   ],
   "source": [
    "#Load in csv file containing data into a data frame\n",
    "df = pd.read_csv(\"auto-mpg 2.csv\")\n",
    "#Check to make sure we have a data frame with the dimensions it shoul have\n",
    "print(df.shape)\n",
    "#Peek at the first few rows\n",
    "display(df.head(5))\n",
    "\n",
    "#Get a summary of statistics of the data frame.\n",
    "display(df.describe())"
   ]
  },
  {
   "cell_type": "markdown",
   "id": "7304ecba-a9fe-44df-9e6d-fcbdee73f0cf",
   "metadata": {
    "tags": []
   },
   "source": [
    "#### Data Cleaning\n",
    "\n",
    "As we can see above, there are a total of 9 different variables in this dataset, some of which are discrete and a couple of others that aren't very useful for what I am trying to do here. So, next I am going to remove the columns that I won't be using and I will also make sure that there aren't any nan or null values within the dataset."
   ]
  },
  {
   "cell_type": "code",
   "execution_count": 5,
   "id": "684365b9-b788-4962-af88-1f0896a76637",
   "metadata": {},
   "outputs": [
    {
     "data": {
      "text/html": [
       "<div>\n",
       "<style scoped>\n",
       "    .dataframe tbody tr th:only-of-type {\n",
       "        vertical-align: middle;\n",
       "    }\n",
       "\n",
       "    .dataframe tbody tr th {\n",
       "        vertical-align: top;\n",
       "    }\n",
       "\n",
       "    .dataframe thead th {\n",
       "        text-align: right;\n",
       "    }\n",
       "</style>\n",
       "<table border=\"1\" class=\"dataframe\">\n",
       "  <thead>\n",
       "    <tr style=\"text-align: right;\">\n",
       "      <th></th>\n",
       "      <th>mpg</th>\n",
       "      <th>displacement</th>\n",
       "      <th>horsepower</th>\n",
       "      <th>weight</th>\n",
       "    </tr>\n",
       "  </thead>\n",
       "  <tbody>\n",
       "    <tr>\n",
       "      <th>0</th>\n",
       "      <td>18.0</td>\n",
       "      <td>307.0</td>\n",
       "      <td>130</td>\n",
       "      <td>3504</td>\n",
       "    </tr>\n",
       "    <tr>\n",
       "      <th>1</th>\n",
       "      <td>15.0</td>\n",
       "      <td>350.0</td>\n",
       "      <td>165</td>\n",
       "      <td>3693</td>\n",
       "    </tr>\n",
       "    <tr>\n",
       "      <th>2</th>\n",
       "      <td>18.0</td>\n",
       "      <td>318.0</td>\n",
       "      <td>150</td>\n",
       "      <td>3436</td>\n",
       "    </tr>\n",
       "    <tr>\n",
       "      <th>3</th>\n",
       "      <td>16.0</td>\n",
       "      <td>304.0</td>\n",
       "      <td>150</td>\n",
       "      <td>3433</td>\n",
       "    </tr>\n",
       "    <tr>\n",
       "      <th>4</th>\n",
       "      <td>17.0</td>\n",
       "      <td>302.0</td>\n",
       "      <td>140</td>\n",
       "      <td>3449</td>\n",
       "    </tr>\n",
       "  </tbody>\n",
       "</table>\n",
       "</div>"
      ],
      "text/plain": [
       "    mpg  displacement horsepower  weight\n",
       "0  18.0         307.0        130    3504\n",
       "1  15.0         350.0        165    3693\n",
       "2  18.0         318.0        150    3436\n",
       "3  16.0         304.0        150    3433\n",
       "4  17.0         302.0        140    3449"
      ]
     },
     "execution_count": 5,
     "metadata": {},
     "output_type": "execute_result"
    }
   ],
   "source": [
    "#Drop the columns that aren't going to be used\n",
    "df = df.drop(['cylinders', 'acceleration', 'model year', 'origin', 'car name'], axis = 1)\n",
    "\n",
    "#Check to make sure we have only the variables we need\n",
    "df.head(5)"
   ]
  },
  {
   "cell_type": "code",
   "execution_count": 29,
   "id": "ea3a9b45-8cfd-448a-9521-9b7dfa9ae4e8",
   "metadata": {
    "tags": []
   },
   "outputs": [
    {
     "name": "stdout",
     "output_type": "stream",
     "text": [
      "mpg             0\n",
      "displacement    0\n",
      "horsepower      0\n",
      "weight          0\n",
      "dtype: int64\n"
     ]
    }
   ],
   "source": [
    "#Check for null values\n",
    "print(df.isnull().sum())"
   ]
  },
  {
   "cell_type": "markdown",
   "id": "3a6af4b5-b32c-49e4-876e-decda65665ce",
   "metadata": {},
   "source": [
    "#### Visualizing The Variables\n",
    "\n",
    "Now that we have confirmation that this is a complete dataset and we have removed all unnecessary variables, let's take a look at some plots to get a general idea of how these variables relate to each other. First we will look at a plot of mpg vs weight. Then we are going to look at the mpg vs engine displacement (size), and finally the mpg vs the engine power."
   ]
  },
  {
   "cell_type": "code",
   "execution_count": 36,
   "id": "b2d5c2fb-7ace-4b0d-8a37-498cfa4456ef",
   "metadata": {
    "tags": []
   },
   "outputs": [
    {
     "data": {
      "text/plain": [
       "Text(0.5, 1.0, 'Car MPG vs Weight')"
      ]
     },
     "execution_count": 36,
     "metadata": {},
     "output_type": "execute_result"
    },
    {
     "data": {
      "image/png": "[encoded data removed]",
      "text/plain": [
       "<Figure size 640x480 with 1 Axes>"
      ]
     },
     "metadata": {},
     "output_type": "display_data"
    }
   ],
   "source": [
    "#Create the plot\n",
    "plt.scatter(df['weight'], df['mpg'], color = 'red', s = 10)\n",
    "\n",
    "#Add titles to axes and plot\n",
    "plt.xlabel('Car Weight')\n",
    "plt.ylabel('Fuel Efficiency')\n",
    "plt.title('Car MPG vs Weight')"
   ]
  },
  {
   "cell_type": "code",
   "execution_count": 6,
   "id": "a331b2af-86e8-4ea5-9e41-efe31acefa44",
   "metadata": {
    "tags": []
   },
   "outputs": [
    {
     "data": {
      "text/plain": [
       "Text(0.5, 1.0, 'Car MPG vs Engine Displacement')"
      ]
     },
     "execution_count": 6,
     "metadata": {},
     "output_type": "execute_result"
    },
    {
     "data": {
      "image/png": "[encoded data removed]",
      "text/plain": [
       "<Figure size 640x480 with 1 Axes>"
      ]
     },
     "metadata": {},
     "output_type": "display_data"
    }
   ],
   "source": [
    "#Create the plot\n",
    "plt.scatter(df['displacement'], df['mpg'], color = 'blue', s = 10)\n",
    "\n",
    "#Add titles to axes and plot\n",
    "plt.xlabel('Engine Displacement')\n",
    "plt.ylabel('Fuel Efficiency')\n",
    "plt.title('Car MPG vs Engine Displacement')"
   ]
  },
  {
   "cell_type": "code",
   "execution_count": 39,
   "id": "092ac7fb-52e0-4fbd-b8af-46f3de8608f9",
   "metadata": {
    "tags": []
   },
   "outputs": [
    {
     "data": {
      "text/plain": [
       "Text(0.5, 1.0, 'Car MPG vs Engine Power')"
      ]
     },
     "execution_count": 39,
     "metadata": {},
     "output_type": "execute_result"
    },
    {
     "data": {
      "image/png": "[encoded data removed]",
      "text/plain": [
       "<Figure size 640x480 with 1 Axes>"
      ]
     },
     "metadata": {},
     "output_type": "display_data"
    }
   ],
   "source": [
    "#Create the plot\n",
    "plt.scatter(df['horsepower'], df['mpg'], color = 'green', s = 10)\n",
    "\n",
    "#Add titles to axes and plot\n",
    "plt.xlabel('Engine Power Output')\n",
    "plt.ylabel('Fuel Efficiency')\n",
    "plt.title('Car MPG vs Engine Power')"
   ]
  },
  {
   "cell_type": "markdown",
   "id": "816da9c3-ce0f-463a-b0f6-d596d7cbe27e",
   "metadata": {},
   "source": [
    "#### Building The Model\n",
    "\n",
    "Now that we have our plots we can get an idea of how these variables affect fuel efficiency. You can see on the plots showing the mpg vs weight and displacement that there are obvious downward trends for those variables. However, when we look at our plot for mpg vs engine power, it is completely all over the place. In matter of fact there is a clump of low power values literally comprise of the highest density of lower efficiency cars. Given the results here I am going to scrap the engine power variable from the model as it would just completely throw it off. \n",
    "\n",
    "Now let's get to building this model! If you remember from above I imported a couple packages from sklearn. That is the scikit-learn package which contains a lot of neat stuff for machine learning models and hence we will be using it to build the multiple regression model.\n",
    "\n",
    "In order to perform this regression we are going to split up the dataset into two subsets. One will be the training subset and the other will be the testing subset. We will train the model with the training set and then test it on the test set. This separation is important as we need to use data to train the model but in order to really see how accurate it is we have to test it on data that the model hasn't seen before. Let's do this!"
   ]
  },
  {
   "cell_type": "code",
   "execution_count": 44,
   "id": "09de1280-80c1-4b67-b7bb-d7b1c9f5f844",
   "metadata": {
    "tags": []
   },
   "outputs": [
    {
     "data": {
      "text/html": [
       "<style>#sk-container-id-1 {color: black;background-color: white;}#sk-container-id-1 pre{padding: 0;}#sk-container-id-1 div.sk-toggleable {background-color: white;}#sk-container-id-1 label.sk-toggleable__label {cursor: pointer;display: block;width: 100%;margin-bottom: 0;padding: 0.3em;box-sizing: border-box;text-align: center;}#sk-container-id-1 label.sk-toggleable__label-arrow:before {content: \"▸\";float: left;margin-right: 0.25em;color: #696969;}#sk-container-id-1 label.sk-toggleable__label-arrow:hover:before {color: black;}#sk-container-id-1 div.sk-estimator:hover label.sk-toggleable__label-arrow:before {color: black;}#sk-container-id-1 div.sk-toggleable__content {max-height: 0;max-width: 0;overflow: hidden;text-align: left;background-color: #f0f8ff;}#sk-container-id-1 div.sk-toggleable__content pre {margin: 0.2em;color: black;border-radius: 0.25em;background-color: #f0f8ff;}#sk-container-id-1 input.sk-toggleable__control:checked~div.sk-toggleable__content {max-height: 200px;max-width: 100%;overflow: auto;}#sk-container-id-1 input.sk-toggleable__control:checked~label.sk-toggleable__label-arrow:before {content: \"▾\";}#sk-container-id-1 div.sk-estimator input.sk-toggleable__control:checked~label.sk-toggleable__label {background-color: #d4ebff;}#sk-container-id-1 div.sk-label input.sk-toggleable__control:checked~label.sk-toggleable__label {background-color: #d4ebff;}#sk-container-id-1 input.sk-hidden--visually {border: 0;clip: rect(1px 1px 1px 1px);clip: rect(1px, 1px, 1px, 1px);height: 1px;margin: -1px;overflow: hidden;padding: 0;position: absolute;width: 1px;}#sk-container-id-1 div.sk-estimator {font-family: monospace;background-color: #f0f8ff;border: 1px dotted black;border-radius: 0.25em;box-sizing: border-box;margin-bottom: 0.5em;}#sk-container-id-1 div.sk-estimator:hover {background-color: #d4ebff;}#sk-container-id-1 div.sk-parallel-item::after {content: \"\";width: 100%;border-bottom: 1px solid gray;flex-grow: 1;}#sk-container-id-1 div.sk-label:hover label.sk-toggleable__label {background-color: #d4ebff;}#sk-container-id-1 div.sk-serial::before {content: \"\";position: absolute;border-left: 1px solid gray;box-sizing: border-box;top: 0;bottom: 0;left: 50%;z-index: 0;}#sk-container-id-1 div.sk-serial {display: flex;flex-direction: column;align-items: center;background-color: white;padding-right: 0.2em;padding-left: 0.2em;position: relative;}#sk-container-id-1 div.sk-item {position: relative;z-index: 1;}#sk-container-id-1 div.sk-parallel {display: flex;align-items: stretch;justify-content: center;background-color: white;position: relative;}#sk-container-id-1 div.sk-item::before, #sk-container-id-1 div.sk-parallel-item::before {content: \"\";position: absolute;border-left: 1px solid gray;box-sizing: border-box;top: 0;bottom: 0;left: 50%;z-index: -1;}#sk-container-id-1 div.sk-parallel-item {display: flex;flex-direction: column;z-index: 1;position: relative;background-color: white;}#sk-container-id-1 div.sk-parallel-item:first-child::after {align-self: flex-end;width: 50%;}#sk-container-id-1 div.sk-parallel-item:last-child::after {align-self: flex-start;width: 50%;}#sk-container-id-1 div.sk-parallel-item:only-child::after {width: 0;}#sk-container-id-1 div.sk-dashed-wrapped {border: 1px dashed gray;margin: 0 0.4em 0.5em 0.4em;box-sizing: border-box;padding-bottom: 0.4em;background-color: white;}#sk-container-id-1 div.sk-label label {font-family: monospace;font-weight: bold;display: inline-block;line-height: 1.2em;}#sk-container-id-1 div.sk-label-container {text-align: center;}#sk-container-id-1 div.sk-container {/* jupyter's `normalize.less` sets `[hidden] { display: none; }` but bootstrap.min.css set `[hidden] { display: none !important; }` so we also need the `!important` here to be able to override the default hidden behavior on the sphinx rendered scikit-learn.org. See: https://github.com/scikit-learn/scikit-learn/issues/21755 */display: inline-block !important;position: relative;}#sk-container-id-1 div.sk-text-repr-fallback {display: none;}</style><div id=\"sk-container-id-1\" class=\"sk-top-container\"><div class=\"sk-text-repr-fallback\"><pre>LinearRegression()</pre><b>In a Jupyter environment, please rerun this cell to show the HTML representation or trust the notebook. <br />On GitHub, the HTML representation is unable to render, please try loading this page with nbviewer.org.</b></div><div class=\"sk-container\" hidden><div class=\"sk-item\"><div class=\"sk-estimator sk-toggleable\"><input class=\"sk-toggleable__control sk-hidden--visually\" id=\"sk-estimator-id-1\" type=\"checkbox\" checked><label for=\"sk-estimator-id-1\" class=\"sk-toggleable__label sk-toggleable__label-arrow\">LinearRegression</label><div class=\"sk-toggleable__content\"><pre>LinearRegression()</pre></div></div></div></div></div>"
      ],
      "text/plain": [
       "LinearRegression()"
      ]
     },
     "execution_count": 44,
     "metadata": {},
     "output_type": "execute_result"
    }
   ],
   "source": [
    "#Separate the variables from the prediction variable\n",
    "X = df[['weight', 'displacement']]\n",
    "y = df['mpg']\n",
    "\n",
    "#Split into training and testing sets\n",
    "X_train, X_test, y_train, y_test = train_test_split(X, y, train_size = 0.7, random_state = 5)\n",
    "\n",
    "#Create and then train the regression model\n",
    "model = LinearRegression()\n",
    "model.fit(X_train, y_train)"
   ]
  },
  {
   "cell_type": "markdown",
   "id": "0dd7485d-7d4f-46c3-ba5f-2b6d350fcf39",
   "metadata": {},
   "source": [
    "Okay now we have created out model and trained it with the training data! Now it is time to test it out and then calculate some parameters to see how well the model fits. For that we are going to look at a value that is known as the mean squared error (or MSE). The underlying math here is you calculate the error for all the data points (that is how far away is the point from the regression line), square them and then average them. The smaller this number is the better the model is at predicting the values.\n",
    "\n",
    "In order to get this we are going to generate a list of prediction values based on the test dataset and then compare that to the actual values to get our MSE."
   ]
  },
  {
   "cell_type": "code",
   "execution_count": 48,
   "id": "e2d0dbfc-9a40-4d10-b30d-b1e0fa176032",
   "metadata": {
    "tags": []
   },
   "outputs": [
    {
     "name": "stdout",
     "output_type": "stream",
     "text": [
      "24.934412155787335\n"
     ]
    }
   ],
   "source": [
    "#Calculate the predicted mpg values for the test set\n",
    "y_pred = model.predict(X_test)\n",
    "\n",
    "#Calculate the mean squared error of the value and display that value\n",
    "print(mean_squared_error(y_test, y_pred))"
   ]
  },
  {
   "cell_type": "markdown",
   "id": "960174d3-9cf8-451b-8991-e6d30deedb8b",
   "metadata": {
    "tags": []
   },
   "source": [
    "#### Modifying The Model\n",
    "\n",
    "In an ideal world the value displayed above would be as close to 0 as possible! A value of roughly 25 is not that great. This result makes sense when you go back and take a look at those scatter plots. They don't decrease in what I would call a linear fashion and honestly they more resemble a line in the form $y = \\frac{1}{x}$. Let's see if we can make some changes to the model in order to lower our MSE.\n",
    "\n",
    "We are going to transform our X parameters into the form $\\frac{1}{X}$ and then see how the model performs under that transformation."
   ]
  },
  {
   "cell_type": "code",
   "execution_count": 53,
   "id": "b222dfd0-e90d-416d-ab69-c268e13fd587",
   "metadata": {
    "tags": []
   },
   "outputs": [
    {
     "name": "stdout",
     "output_type": "stream",
     "text": [
      "23.354057988704472\n"
     ]
    }
   ],
   "source": [
    "#Transform our parameters\n",
    "X_train2 = 1/X_train\n",
    "X_test2 = 1/X_test\n",
    "\n",
    "#Create and then train the updated regression model\n",
    "model = LinearRegression()\n",
    "model.fit(X_train2, y_train)\n",
    "\n",
    "#Calculate the predicted mpg values for the test set\n",
    "y_pred2 = model.predict(X_test2)\n",
    "\n",
    "#Calculate the updated mean squared error of the value and display that value\n",
    "print(mean_squared_error(y_test, y_pred2))"
   ]
  },
  {
   "cell_type": "markdown",
   "id": "511dfa59-ae91-484f-8351-6f786d108a55",
   "metadata": {},
   "source": [
    "#### Other Factors\n",
    "\n",
    "Okay so this updated value is slightly lower than the previous one. Not by much but we were still able to create a slightly more accurate model (honestly it's more like a less inaccurate model). But why is it still so high? The main reason for this has to do with the spread of the data. When you look at the scatter plots for weight and displacement, we see that for a small range of X, we get a large range of y. This fact is going to make any model very tough to be accurate. This phenomenon we are seeing can be explained by a couple of reasons. One big one is this model can't differentiate between the car's different makes and models. An engine from company A can be more efficient than Company B even if the cars weigh the same, the engines are the same size, and they produce the same power. Another factor here could be the model year variation of the cars. Looking back at the summary statistics we see a range in model year from 1970 to 1982 and engines tend to get more efficient over time so this could skew that data.\n",
    "\n",
    "Given that these models aren't all that reliable and that I have given possible explanations for them not working so well, let's do some statistical calculations to see if we can find any patterns. First we're going to load in the original dataset again and then take a look at the first few rows again (mainly for my convenience). Then we will first look at the average mpg for each unique cylinder value.\n"
   ]
  },
  {
   "cell_type": "code",
   "execution_count": 61,
   "id": "9ba6bc16-df4c-418c-b0c9-994e16c79365",
   "metadata": {
    "tags": []
   },
   "outputs": [
    {
     "data": {
      "text/html": [
       "<div>\n",
       "<style scoped>\n",
       "    .dataframe tbody tr th:only-of-type {\n",
       "        vertical-align: middle;\n",
       "    }\n",
       "\n",
       "    .dataframe tbody tr th {\n",
       "        vertical-align: top;\n",
       "    }\n",
       "\n",
       "    .dataframe thead th {\n",
       "        text-align: right;\n",
       "    }\n",
       "</style>\n",
       "<table border=\"1\" class=\"dataframe\">\n",
       "  <thead>\n",
       "    <tr style=\"text-align: right;\">\n",
       "      <th></th>\n",
       "      <th>mpg</th>\n",
       "      <th>cylinders</th>\n",
       "      <th>displacement</th>\n",
       "      <th>horsepower</th>\n",
       "      <th>weight</th>\n",
       "      <th>acceleration</th>\n",
       "      <th>model year</th>\n",
       "      <th>origin</th>\n",
       "      <th>car name</th>\n",
       "    </tr>\n",
       "  </thead>\n",
       "  <tbody>\n",
       "    <tr>\n",
       "      <th>0</th>\n",
       "      <td>18.0</td>\n",
       "      <td>8</td>\n",
       "      <td>307.0</td>\n",
       "      <td>130</td>\n",
       "      <td>3504</td>\n",
       "      <td>12.0</td>\n",
       "      <td>70</td>\n",
       "      <td>1</td>\n",
       "      <td>chevrolet chevelle malibu</td>\n",
       "    </tr>\n",
       "    <tr>\n",
       "      <th>1</th>\n",
       "      <td>15.0</td>\n",
       "      <td>8</td>\n",
       "      <td>350.0</td>\n",
       "      <td>165</td>\n",
       "      <td>3693</td>\n",
       "      <td>11.5</td>\n",
       "      <td>70</td>\n",
       "      <td>1</td>\n",
       "      <td>buick skylark 320</td>\n",
       "    </tr>\n",
       "    <tr>\n",
       "      <th>2</th>\n",
       "      <td>18.0</td>\n",
       "      <td>8</td>\n",
       "      <td>318.0</td>\n",
       "      <td>150</td>\n",
       "      <td>3436</td>\n",
       "      <td>11.0</td>\n",
       "      <td>70</td>\n",
       "      <td>1</td>\n",
       "      <td>plymouth satellite</td>\n",
       "    </tr>\n",
       "    <tr>\n",
       "      <th>3</th>\n",
       "      <td>16.0</td>\n",
       "      <td>8</td>\n",
       "      <td>304.0</td>\n",
       "      <td>150</td>\n",
       "      <td>3433</td>\n",
       "      <td>12.0</td>\n",
       "      <td>70</td>\n",
       "      <td>1</td>\n",
       "      <td>amc rebel sst</td>\n",
       "    </tr>\n",
       "    <tr>\n",
       "      <th>4</th>\n",
       "      <td>17.0</td>\n",
       "      <td>8</td>\n",
       "      <td>302.0</td>\n",
       "      <td>140</td>\n",
       "      <td>3449</td>\n",
       "      <td>10.5</td>\n",
       "      <td>70</td>\n",
       "      <td>1</td>\n",
       "      <td>ford torino</td>\n",
       "    </tr>\n",
       "  </tbody>\n",
       "</table>\n",
       "</div>"
      ],
      "text/plain": [
       "    mpg  cylinders  displacement horsepower  weight  acceleration  model year  \\\n",
       "0  18.0          8         307.0        130    3504          12.0          70   \n",
       "1  15.0          8         350.0        165    3693          11.5          70   \n",
       "2  18.0          8         318.0        150    3436          11.0          70   \n",
       "3  16.0          8         304.0        150    3433          12.0          70   \n",
       "4  17.0          8         302.0        140    3449          10.5          70   \n",
       "\n",
       "   origin                   car name  \n",
       "0       1  chevrolet chevelle malibu  \n",
       "1       1          buick skylark 320  \n",
       "2       1         plymouth satellite  \n",
       "3       1              amc rebel sst  \n",
       "4       1                ford torino  "
      ]
     },
     "metadata": {},
     "output_type": "display_data"
    },
    {
     "name": "stdout",
     "output_type": "stream",
     "text": [
      "cylinders\n",
      "3    20.550000\n",
      "4    29.286765\n",
      "5    27.366667\n",
      "6    19.985714\n",
      "8    14.963107\n",
      "Name: mpg, dtype: float64\n"
     ]
    }
   ],
   "source": [
    "#Bring back the original dataset so we can look a little closer at the discrete variables ommitted from the regression model.\n",
    "df = pd.read_csv(\"auto-mpg 2.csv\")\n",
    "\n",
    "#Re-examine the original dataset\n",
    "display(df.head(5))\n",
    "\n",
    "#Calculate and then print the averages\n",
    "avg_cyl = df.groupby('cylinders')['mpg'].mean()\n",
    "print(avg_cyl)"
   ]
  },
  {
   "cell_type": "markdown",
   "id": "64d6e38c-db4a-44dc-92c1-f7b35853dc05",
   "metadata": {},
   "source": [
    "Okay so we can now see here that there is an obvious correlation between the amount of cylinders in an engine and the mpg. Now the 3 cylinder cars are a bit of an outlier here but the other values make perfect sense. This data wouldn't be able to be shows in a linear regression since the cylinder variable is discrete and not continuous (meaning it can only take on a finite amount of values). Now let's do the same calculation but with model year instead of cylinders."
   ]
  },
  {
   "cell_type": "code",
   "execution_count": 62,
   "id": "e09e6dc3-05c6-441c-9056-664ecc99f121",
   "metadata": {
    "tags": []
   },
   "outputs": [
    {
     "name": "stdout",
     "output_type": "stream",
     "text": [
      "model year\n",
      "70    17.689655\n",
      "71    21.250000\n",
      "72    18.714286\n",
      "73    17.100000\n",
      "74    22.703704\n",
      "75    20.266667\n",
      "76    21.573529\n",
      "77    23.375000\n",
      "78    24.061111\n",
      "79    25.093103\n",
      "80    33.696552\n",
      "81    30.334483\n",
      "82    31.709677\n",
      "Name: mpg, dtype: float64\n"
     ]
    }
   ],
   "source": [
    "#Same calculation as above but with model year instead.\n",
    "avg_year = df.groupby('model year')['mpg'].mean()\n",
    "print(avg_year)"
   ]
  },
  {
   "cell_type": "markdown",
   "id": "9395206c-1bc9-48af-9e65-6464be36d591",
   "metadata": {},
   "source": [
    "Here we see some more data that makes a lot of sense once again. The average mpg per model year is seeing an upward trend with a massive spike between 1979 and 1980. So why is there such a dramatic jump in efficiency here? For those who paid attention in history class the world was in an oil crisis at this time. The price of crude oil more than doubled in 1979 and the average cost of gas almost doubled between 1978 and 1980. There was a huge incentive for cars produced after 1979 to be as efficient as possible as that would be a very important metric for the customer. \n",
    "\n",
    "Just to be safe though, let's look at a histogram to see how many cars in the set are from these years."
   ]
  },
  {
   "cell_type": "code",
   "execution_count": 71,
   "id": "a060f761-d78e-47c7-bd90-6cd96dd87b93",
   "metadata": {
    "tags": []
   },
   "outputs": [
    {
     "data": {
      "text/plain": [
       "Text(0.5, 1.0, 'Number of Cars per Model Year')"
      ]
     },
     "execution_count": 71,
     "metadata": {},
     "output_type": "execute_result"
    },
    {
     "data": {
      "image/png": "[encoded data removed]",
      "text/plain": [
       "<Figure size 640x480 with 1 Axes>"
      ]
     },
     "metadata": {},
     "output_type": "display_data"
    }
   ],
   "source": [
    "plt.hist(df['model year'], bins = 12, color = '#8B0000', edgecolor = 'black')\n",
    "\n",
    "plt.xlabel('Model Year')\n",
    "plt.ylabel('Frequency')\n",
    "plt.title('Number of Cars per Model Year')"
   ]
  },
  {
   "cell_type": "markdown",
   "id": "83dc1bb2-7911-4e13-99f7-b24ffe71b15a",
   "metadata": {},
   "source": [
    "Alright so there is a relatively even distribution (with the exception of a spike for 1982) in the number of entries per model year in this data set. This shows that there isn't a year with only a few datasets where an average would be skewed by 1 or 2 values. Now let's do the same but with the engine cylinders."
   ]
  },
  {
   "cell_type": "code",
   "execution_count": 72,
   "id": "f262f143-f3c2-4d14-9c0e-5fdd95930e8d",
   "metadata": {
    "tags": []
   },
   "outputs": [
    {
     "data": {
      "text/plain": [
       "Text(0.5, 1.0, 'Number of Cars per Number of Cylinders')"
      ]
     },
     "execution_count": 72,
     "metadata": {},
     "output_type": "execute_result"
    },
    {
     "data": {
      "image/png": "[encoded data removed]",
      "text/plain": [
       "<Figure size 640x480 with 1 Axes>"
      ]
     },
     "metadata": {},
     "output_type": "display_data"
    }
   ],
   "source": [
    "plt.hist(df['cylinders'], bins = 5, color = '#000080', edgecolor = 'black')\n",
    "\n",
    "plt.xlabel('Number of Cylinders')\n",
    "plt.ylabel('Frequency')\n",
    "plt.title('Number of Cars per Number of Cylinders')"
   ]
  },
  {
   "cell_type": "markdown",
   "id": "9ee528a4-a8da-41fb-9e88-4ce3ae98ff66",
   "metadata": {},
   "source": [
    "Okay here again we see data that more or less makes sense. Obviously 4-cylinder cars are the most common ones. Notice how 3 and 5-cylinder cars barely register on the graph. Those are very rare engine configurations and hardly any production car uses those types of engines.\n",
    "\n",
    "These charts don't show any irregularities that would've skewed the data in favor of what we have been observing here and now it is time to make some conclusions about what we discovered."
   ]
  },
  {
   "cell_type": "markdown",
   "id": "3be2b718-36fb-45f0-9320-d1c0bab2b5cc",
   "metadata": {},
   "source": [
    "## Conclusion\n",
    "We were able to gather a couple of things from the data. While our goal was to create a multiple regression model that could accurately predict a car's mpg based on the weight and the engine displacement, the model ended up not being so accurate. However, that doesn't mean there isn't a correlation. The scatter plots showed an obvious downward trend in mpg as the car got heavier and as the engine got larger. However, there were other factors at play that had an affect on the efficacy of the model. Due to the fact that the dataset spans the years 1970-1982, we were able to see that the cars from each year would, on average, become more fuel efficient. This means that the model year itself is a variable that contributes a good amount to fuel efficiency. We also saw an outlier in these calculations with a huge jump in mpg with 1980 models and we can safely assume that the geopolitical issues facing the world at the time (mainly the 1979 Oil Crisis) \n",
    "\n",
    "We also saw that as the number of cylinders went up, the mpg went down. This was especially true for the jumps from 4 to 6 and 6 to 8 cylinders. We had an outlier group with the 3-cylinder class being the second least efficient but out histogram for the number of cylinders shows that there a negligible amount of them (along with 5-cylinder). \n",
    "\n",
    "Overall while there are clear and obvious factors that influence a car's mpg, accounting for every one of them in a single model isn't feasible and for an analysis such as this one you are much better off observing visual charts and looking at statistical metrics in order to come to conclusions instead of trying to get a model to accurately fit the data.\n"
   ]
  }
 ],
 "metadata": {
  "kernelspec": {
   "display_name": "Python 3 (ipykernel)",
   "language": "python",
   "name": "python3"
  },
  "language_info": {
   "codemirror_mode": {
    "name": "ipython",
    "version": 3
   },
   "file_extension": ".py",
   "mimetype": "text/x-python",
   "name": "python",
   "nbconvert_exporter": "python",
   "pygments_lexer": "ipython3",
   "version": "3.11.5"
  }
 },
 "nbformat": 4,
 "nbformat_minor": 5
}
